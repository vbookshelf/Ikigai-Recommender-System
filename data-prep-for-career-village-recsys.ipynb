{
 "cells": [
  {
   "cell_type": "markdown",
   "metadata": {
    "_uuid": "2c3aeb544a8988ecc0371a23249eba8894304153"
   },
   "source": [
    "## Data Preparation for Career Village Recommender System\n",
    "\n",
    "by Marsh [ @vbookshelf ]<br>\n",
    "9 April 2019"
   ]
  },
  {
   "cell_type": "markdown",
   "metadata": {},
   "source": [
    "<hr>"
   ]
  },
  {
   "cell_type": "markdown",
   "metadata": {},
   "source": [
    "## 2. Prepare the Data"
   ]
  },
  {
   "cell_type": "markdown",
   "metadata": {},
   "source": [
    "### 2.1. Import libraries"
   ]
  },
  {
   "cell_type": "code",
   "execution_count": 1,
   "metadata": {
    "_uuid": "3daaf298fef87dc40e1aa850e1ba65b88471ffb3"
   },
   "outputs": [
    {
     "name": "stderr",
     "output_type": "stream",
     "text": [
      "Using TensorFlow backend.\n"
     ]
    }
   ],
   "source": [
    "# Set a seed value\n",
    "from numpy.random import seed\n",
    "seed(101)\n",
    "\n",
    "import pandas as pd\n",
    "import numpy as np\n",
    "import os\n",
    "\n",
    "import pickle\n",
    "from bs4 import BeautifulSoup\n",
    "import re\n",
    "from nltk.corpus import stopwords\n",
    "from sklearn.feature_extraction.text import TfidfVectorizer\n",
    "from sklearn.metrics.pairwise import linear_kernel, cosine_similarity\n",
    "\n",
    "from keras.preprocessing.text import Tokenizer\n",
    "from keras.preprocessing.sequence import pad_sequences\n",
    "\n",
    "# Don't Show Warning Messages\n",
    "import warnings\n",
    "warnings.filterwarnings('ignore')"
   ]
  },
  {
   "cell_type": "markdown",
   "metadata": {
    "_uuid": "55bd3ad11ccd9f535ac903364247eb9c2a5f85f1"
   },
   "source": [
    "### 2.2. Check what folders are available"
   ]
  },
  {
   "cell_type": "code",
   "execution_count": 2,
   "metadata": {
    "_uuid": "897959603025c9aabc17837a55d6ba2d26b34691"
   },
   "outputs": [
    {
     "data": {
      "text/plain": [
       "['glove-global-vectors-for-word-representation',\n",
       " 'data-science-for-good-careervillage']"
      ]
     },
     "execution_count": 2,
     "metadata": {},
     "output_type": "execute_result"
    }
   ],
   "source": [
    "os.listdir('../input')"
   ]
  },
  {
   "cell_type": "markdown",
   "metadata": {
    "_uuid": "90b993ecdad80cec67a97f491c1a80c75c2d7b86"
   },
   "source": [
    "### 2.3. Read the Data"
   ]
  },
  {
   "cell_type": "code",
   "execution_count": 3,
   "metadata": {
    "_uuid": "4525706fa5bc8cc7248a8086b127e922f6dc8dbd"
   },
   "outputs": [
    {
     "name": "stdout",
     "output_type": "stream",
     "text": [
      "(23931, 5)\n",
      "(51123, 5)\n",
      "(28152, 5)\n",
      "(14966, 5)\n",
      "(16269, 2)\n",
      "(136663, 2)\n"
     ]
    }
   ],
   "source": [
    "\n",
    "df_questions = \\\n",
    "pd.read_csv('../input/data-science-for-good-careervillage/questions.csv')\n",
    "df_answers = \\\n",
    "pd.read_csv('../input/data-science-for-good-careervillage/answers.csv')\n",
    "df_professionals = \\\n",
    "pd.read_csv('../input/data-science-for-good-careervillage/professionals.csv')\n",
    "\n",
    "df_comments = \\\n",
    "pd.read_csv('../input/data-science-for-good-careervillage/comments.csv')\n",
    "df_tags = \\\n",
    "pd.read_csv('../input/data-science-for-good-careervillage/tags.csv')\n",
    "df_tag_users = \\\n",
    "pd.read_csv('../input/data-science-for-good-careervillage/tag_users.csv')\n",
    "\n",
    "print(df_questions.shape)\n",
    "print(df_answers.shape)\n",
    "print(df_professionals.shape)\n",
    "print(df_comments.shape)\n",
    "print(df_tags.shape)\n",
    "print(df_tag_users.shape)"
   ]
  },
  {
   "cell_type": "markdown",
   "metadata": {
    "_uuid": "b01d26c0725dd320283fac1ae78837a5faf0b5c2"
   },
   "source": [
    "### 2.4. Add the answer authors currently not listed in professionals.csv\n",
    "\n",
    "There are 102 answer author id's in answers.csv that are not listed in professionals.csv. Here we'll add those missing id's to the data imported from professionals.csv. We'll save the updated dataframe as a pickle file. We're doing this so that we will not lose answer data when we merge dataframes later. If we don't do this then if an answer author's id is not listed in df_professionals, that person's answers will be automatically deleted when we merge the dataframes."
   ]
  },
  {
   "cell_type": "code",
   "execution_count": 4,
   "metadata": {
    "_uuid": "839d90a03ddc3a0cc9ad428d95e00e75ccc44e1f"
   },
   "outputs": [
    {
     "name": "stdout",
     "output_type": "stream",
     "text": [
      "102  professionals are missing from df_professionals.\n",
      "df_professionals has now been updated.\n"
     ]
    }
   ],
   "source": [
    "# Check if the answer authors listed in df_answers are listed in df_professionals\n",
    "\n",
    "def check_if_present(x):\n",
    "    prof_list = list(df_professionals['professionals_id'])\n",
    "    if x in prof_list:\n",
    "        return 1\n",
    "    else:\n",
    "        return 0\n",
    "    \n",
    "df_answers['check'] = \\\n",
    "df_answers['answers_author_id'].apply(check_if_present)\n",
    "\n",
    "# Check for a mismatch\n",
    "\n",
    "df = df_answers[df_answers['check'] == 0]\n",
    "# drop duplicates in df_missing\n",
    "df = df.drop_duplicates('answers_author_id')\n",
    "\n",
    "print(len(df), ' professionals are missing from df_professionals.')\n",
    "\n",
    "\n",
    "# == Insert the missing answer authors into the df_professionals dataframe == #\n",
    "\n",
    "# select the missing answer authors\n",
    "df_missing = df_answers[df_answers['check'] == 0]\n",
    "\n",
    "# drop duplicates in df_missing\n",
    "df_missing = df_missing.drop_duplicates('answers_author_id')\n",
    "\n",
    "# select only one column\n",
    "df_missing = df_missing[['answers_author_id']]\n",
    "\n",
    "# change the id column name to be the same as df_professionals\n",
    "new_names = ['professionals_id']\n",
    "df_missing.columns = new_names\n",
    "\n",
    "# drop the check column from df_missing\n",
    "df_answers = df_answers.drop('check', axis=1)\n",
    "\n",
    "# concat df_professionals and df_missing\n",
    "df_professionals = \\\n",
    "pd.concat([df_professionals, df_missing], axis=0).reset_index(drop=True)\n",
    "\n",
    "print('df_professionals has now been updated.')\n",
    "\n",
    "# save df_professionals as a pickle file\n",
    "#pickle.dump(df_professionals,open('df_professionals.pickle','wb'))\n",
    "\n",
    "# load df_professionals\n",
    "#df_professionals = pickle.load(open('df_professionals.pickle','rb'))\n"
   ]
  },
  {
   "cell_type": "code",
   "execution_count": 5,
   "metadata": {
    "_uuid": "2a8e0ad8c2c04b7ba832a3a4aa91a8f6cf63950a"
   },
   "outputs": [
    {
     "data": {
      "text/html": [
       "<div>\n",
       "<style scoped>\n",
       "    .dataframe tbody tr th:only-of-type {\n",
       "        vertical-align: middle;\n",
       "    }\n",
       "\n",
       "    .dataframe tbody tr th {\n",
       "        vertical-align: top;\n",
       "    }\n",
       "\n",
       "    .dataframe thead th {\n",
       "        text-align: right;\n",
       "    }\n",
       "</style>\n",
       "<table border=\"1\" class=\"dataframe\">\n",
       "  <thead>\n",
       "    <tr style=\"text-align: right;\">\n",
       "      <th></th>\n",
       "      <th>professionals_date_joined</th>\n",
       "      <th>professionals_headline</th>\n",
       "      <th>professionals_id</th>\n",
       "      <th>professionals_industry</th>\n",
       "      <th>professionals_location</th>\n",
       "    </tr>\n",
       "  </thead>\n",
       "  <tbody>\n",
       "    <tr>\n",
       "      <th>0</th>\n",
       "      <td>2011-10-05 20:35:19 UTC+0000</td>\n",
       "      <td>NaN</td>\n",
       "      <td>9ced4ce7519049c0944147afb75a8ce3</td>\n",
       "      <td>NaN</td>\n",
       "      <td>NaN</td>\n",
       "    </tr>\n",
       "    <tr>\n",
       "      <th>1</th>\n",
       "      <td>2011-10-05 20:49:21 UTC+0000</td>\n",
       "      <td>NaN</td>\n",
       "      <td>f718dcf6d2ec4cb0a52a9db59d7f9e67</td>\n",
       "      <td>NaN</td>\n",
       "      <td>NaN</td>\n",
       "    </tr>\n",
       "    <tr>\n",
       "      <th>2</th>\n",
       "      <td>2011-10-18 17:31:26 UTC+0000</td>\n",
       "      <td>NaN</td>\n",
       "      <td>0c673e046d824ec0ad0ebe012a0673e4</td>\n",
       "      <td>NaN</td>\n",
       "      <td>New York, New York</td>\n",
       "    </tr>\n",
       "    <tr>\n",
       "      <th>3</th>\n",
       "      <td>2011-11-09 20:39:29 UTC+0000</td>\n",
       "      <td>NaN</td>\n",
       "      <td>977428d851b24183b223be0eb8619a8c</td>\n",
       "      <td>NaN</td>\n",
       "      <td>Boston, Massachusetts</td>\n",
       "    </tr>\n",
       "    <tr>\n",
       "      <th>4</th>\n",
       "      <td>2011-12-10 22:14:44 UTC+0000</td>\n",
       "      <td>NaN</td>\n",
       "      <td>e2d57e5041a44f489288397c9904c2b2</td>\n",
       "      <td>NaN</td>\n",
       "      <td>NaN</td>\n",
       "    </tr>\n",
       "  </tbody>\n",
       "</table>\n",
       "</div>"
      ],
      "text/plain": [
       "      professionals_date_joined          ...           professionals_location\n",
       "0  2011-10-05 20:35:19 UTC+0000          ...                              NaN\n",
       "1  2011-10-05 20:49:21 UTC+0000          ...                              NaN\n",
       "2  2011-10-18 17:31:26 UTC+0000          ...               New York, New York\n",
       "3  2011-11-09 20:39:29 UTC+0000          ...            Boston, Massachusetts\n",
       "4  2011-12-10 22:14:44 UTC+0000          ...                              NaN\n",
       "\n",
       "[5 rows x 5 columns]"
      ]
     },
     "execution_count": 5,
     "metadata": {},
     "output_type": "execute_result"
    }
   ],
   "source": [
    "df_professionals.head()"
   ]
  },
  {
   "cell_type": "markdown",
   "metadata": {
    "_uuid": "679c4def42b97262f4244db8fb8cb51639900aeb"
   },
   "source": [
    "### 2.5. Identify the high school students who have registered as professionals\n",
    "There are 26 professionals who are high school students according to their professional_headline. It could be that new student users registered under the wrong section of the website or it could be that they were once high school students but have since graduated. We won't remove these students from the list of professionals."
   ]
  },
  {
   "cell_type": "code",
   "execution_count": 6,
   "metadata": {
    "_uuid": "242a90fd0d3fc35eab76f44a9bff55bb3cd927cf"
   },
   "outputs": [
    {
     "name": "stdout",
     "output_type": "stream",
     "text": [
      "26  high school students are listed as professionals.\n"
     ]
    }
   ],
   "source": [
    "# replace Nan values with nothing\n",
    "df_professionals = df_professionals.fillna('')\n",
    "\n",
    "def identify_highschoolers(x):\n",
    "    # convert words to lower case\n",
    "    x = x.lower()\n",
    "    \n",
    "    if 'student at' in x:\n",
    "        if 'high school' in x:\n",
    "            return 1\n",
    "        else:\n",
    "            return 0\n",
    "\n",
    "df_professionals['check'] = \\\n",
    "df_professionals['professionals_headline'].apply(identify_highschoolers)\n",
    "\n",
    "# filter out the high school students\n",
    "df_highschoolers = df_professionals[df_professionals['check'] == 1]\n",
    "\n",
    "# get a list of professional id's of the high school students\n",
    "highschoolers_list = list(df_highschoolers['professionals_id'])\n",
    "\n",
    "# drop the 'check' column\n",
    "df_professionals = df_professionals.drop('check', axis=1)\n",
    "\n",
    "# print the number of highschoolers who are professionals\n",
    "print(len(highschoolers_list), ' high school students are listed as professionals.')"
   ]
  },
  {
   "cell_type": "markdown",
   "metadata": {
    "_uuid": "2eff5a9edd6a5b60203c888b55fe11c145b644b2"
   },
   "source": [
    "### 2.6. Add a column showing how many days each professional has been part of CareerVillage"
   ]
  },
  {
   "cell_type": "code",
   "execution_count": 7,
   "metadata": {
    "_uuid": "0387acbeb2254e9d51d4a729c731e118463eca32"
   },
   "outputs": [
    {
     "data": {
      "text/html": [
       "<div>\n",
       "<style scoped>\n",
       "    .dataframe tbody tr th:only-of-type {\n",
       "        vertical-align: middle;\n",
       "    }\n",
       "\n",
       "    .dataframe tbody tr th {\n",
       "        vertical-align: top;\n",
       "    }\n",
       "\n",
       "    .dataframe thead th {\n",
       "        text-align: right;\n",
       "    }\n",
       "</style>\n",
       "<table border=\"1\" class=\"dataframe\">\n",
       "  <thead>\n",
       "    <tr style=\"text-align: right;\">\n",
       "      <th></th>\n",
       "      <th>professionals_date_joined</th>\n",
       "      <th>professionals_headline</th>\n",
       "      <th>professionals_id</th>\n",
       "      <th>professionals_industry</th>\n",
       "      <th>professionals_location</th>\n",
       "      <th>num_days_member</th>\n",
       "    </tr>\n",
       "  </thead>\n",
       "  <tbody>\n",
       "    <tr>\n",
       "      <th>0</th>\n",
       "      <td>2011-10-05 20:35:19</td>\n",
       "      <td></td>\n",
       "      <td>9ced4ce7519049c0944147afb75a8ce3</td>\n",
       "      <td></td>\n",
       "      <td></td>\n",
       "      <td>2675.0</td>\n",
       "    </tr>\n",
       "    <tr>\n",
       "      <th>1</th>\n",
       "      <td>2011-10-05 20:49:21</td>\n",
       "      <td></td>\n",
       "      <td>f718dcf6d2ec4cb0a52a9db59d7f9e67</td>\n",
       "      <td></td>\n",
       "      <td></td>\n",
       "      <td>2675.0</td>\n",
       "    </tr>\n",
       "    <tr>\n",
       "      <th>2</th>\n",
       "      <td>2011-10-18 17:31:26</td>\n",
       "      <td></td>\n",
       "      <td>0c673e046d824ec0ad0ebe012a0673e4</td>\n",
       "      <td></td>\n",
       "      <td>New York, New York</td>\n",
       "      <td>2662.0</td>\n",
       "    </tr>\n",
       "    <tr>\n",
       "      <th>3</th>\n",
       "      <td>2011-11-09 20:39:29</td>\n",
       "      <td></td>\n",
       "      <td>977428d851b24183b223be0eb8619a8c</td>\n",
       "      <td></td>\n",
       "      <td>Boston, Massachusetts</td>\n",
       "      <td>2640.0</td>\n",
       "    </tr>\n",
       "    <tr>\n",
       "      <th>4</th>\n",
       "      <td>2011-12-10 22:14:44</td>\n",
       "      <td></td>\n",
       "      <td>e2d57e5041a44f489288397c9904c2b2</td>\n",
       "      <td></td>\n",
       "      <td></td>\n",
       "      <td>2609.0</td>\n",
       "    </tr>\n",
       "  </tbody>\n",
       "</table>\n",
       "</div>"
      ],
      "text/plain": [
       "  professionals_date_joined       ...       num_days_member\n",
       "0       2011-10-05 20:35:19       ...                2675.0\n",
       "1       2011-10-05 20:49:21       ...                2675.0\n",
       "2       2011-10-18 17:31:26       ...                2662.0\n",
       "3       2011-11-09 20:39:29       ...                2640.0\n",
       "4       2011-12-10 22:14:44       ...                2609.0\n",
       "\n",
       "[5 rows x 6 columns]"
      ]
     },
     "execution_count": 7,
     "metadata": {},
     "output_type": "execute_result"
    }
   ],
   "source": [
    "# Change the time stamp column to a pandas datetime column\n",
    "df_professionals['professionals_date_joined'] = \\\n",
    "pd.to_datetime(df_professionals['professionals_date_joined'])\n",
    "\n",
    "# Get the most recent date in the dataframe\n",
    "max_date = df_professionals['professionals_date_joined'].max()\n",
    "\n",
    "# Create a new column showing how many days that\n",
    "# professional has been a member\n",
    "\n",
    "def num_days_member(x):\n",
    "    num_days = (max_date - x).days\n",
    "    \n",
    "    return num_days\n",
    "\n",
    "df_professionals['num_days_member'] = \\\n",
    "df_professionals['professionals_date_joined'].apply(num_days_member)\n",
    "\n",
    "df_professionals.head()"
   ]
  },
  {
   "cell_type": "markdown",
   "metadata": {
    "_uuid": "bedd8a24dbb5d90d7689cc14c692773f6ce68a5f"
   },
   "source": [
    "### 2.7. Merge df_questions, df_answers and df_professionals"
   ]
  },
  {
   "cell_type": "code",
   "execution_count": 8,
   "metadata": {
    "_uuid": "f6b858fe08ed2a43cc3a4efc26541af0fa75a3f2"
   },
   "outputs": [
    {
     "name": "stdout",
     "output_type": "stream",
     "text": [
      "(51123, 10)\n",
      "(51123, 18)\n"
     ]
    }
   ],
   "source": [
    "# Merge the question and answer dataframes\n",
    "df_question_answers = df_questions.merge(right=df_answers, how='inner', \n",
    "                                         left_on='questions_id', \n",
    "                                         right_on='answers_question_id')\n",
    "\n",
    "# Merge df_question_answers with df_professionals\n",
    "df_qa_prof = df_question_answers.merge(right=df_professionals, \n",
    "                                          left_on='answers_author_id', \n",
    "                                          right_on='professionals_id')\n",
    "\n",
    "\n",
    "# Add the questions_title to questions_body\n",
    "df_qa_prof['quest_text'] = df_qa_prof['questions_title'] + ' ' \\\n",
    "+ df_qa_prof['questions_body']\n",
    "\n",
    "# Add the professionals headline and industry to the answers body\n",
    "df_qa_prof['answers_text'] = \\\n",
    "df_qa_prof['professionals_headline'] + ' ' \\\n",
    "+ df_qa_prof['professionals_industry'] + ' ' + df_qa_prof['answers_body']\n",
    "\n",
    "\n",
    "# Quick check: The number of rows should be the same for both dataframes.\n",
    "print(df_question_answers.shape)\n",
    "print(df_qa_prof.shape)"
   ]
  },
  {
   "cell_type": "markdown",
   "metadata": {
    "_uuid": "4a053cd5f4d30acfe72eeff245cebdab61442887"
   },
   "source": [
    "### 2.8. Clean the text"
   ]
  },
  {
   "cell_type": "code",
   "execution_count": 9,
   "metadata": {
    "_uuid": "74c1ae530c36ab7694d3335a048e5b4439508587"
   },
   "outputs": [],
   "source": [
    "# replace all missing values with nothing\n",
    "df_qa_prof = df_qa_prof.fillna('')\n",
    "\n",
    "\n",
    "def process_text(x):\n",
    "    \n",
    "    # remove the hash sign\n",
    "    x = x.replace(\"#\", \"\")\n",
    "    \n",
    "    # remove the dash sign with a space\n",
    "    #x = x.replace(\"-\", \" \")\n",
    "    \n",
    "    # Remove HTML\n",
    "    x = BeautifulSoup(x).get_text()\n",
    "    \n",
    "    # convert words to lower case\n",
    "    x = x.lower()\n",
    "    \n",
    "    # remove the word question\n",
    "    x = x.replace(\"question\", \"\")\n",
    "    \n",
    "    # remove the word career\n",
    "    x = x.replace(\"career\", \"\")\n",
    "    \n",
    "    # remove the word study\n",
    "    x = x.replace(\"study\", \"\")\n",
    "    \n",
    "    # remove the word student\n",
    "    x = x.replace(\"student\", \"\")\n",
    "    \n",
    "    # remove the word school\n",
    "    x = x.replace(\"school\", \"\")\n",
    "    \n",
    "    # Remove non-letters\n",
    "    x = re.sub(\"[^a-zA-Z]\",\" \", x)\n",
    "    \n",
    "    # Remove stop words\n",
    "    # Convert words to lower case and split them\n",
    "    words = x.split()\n",
    "    stops = stopwords.words(\"english\")\n",
    "    x_list = [w for w in words if not w in stops]\n",
    "    # convert the list to a string\n",
    "    x = ' '.join(x_list)\n",
    "    \n",
    "    return x\n",
    "\n",
    "# clean the questions_text column\n",
    "df_qa_prof['quest_text'] = df_qa_prof['quest_text'].apply(process_text)\n",
    "\n",
    "# clean the answers_text\n",
    "df_qa_prof['answers_text'] = df_qa_prof['answers_text'].apply(process_text)\n"
   ]
  },
  {
   "cell_type": "markdown",
   "metadata": {
    "_uuid": "30e419495ff7a164a39006eb693cdbad38f66fac"
   },
   "source": [
    "### 2.9. Save df_professionals and df_qa_prof"
   ]
  },
  {
   "cell_type": "code",
   "execution_count": 10,
   "metadata": {
    "_uuid": "be0efd62628f5a3e8b8329d11882bb9c013f5bbd"
   },
   "outputs": [],
   "source": [
    "# save df_professionals as a pickle file\n",
    "pickle.dump(df_professionals,open('df_professionals.pickle','wb'))\n",
    "\n",
    "# save df_qa_prof as a pickle file\n",
    "pickle.dump(df_qa_prof,open('df_qa_prof.pickle','wb'))\n",
    "\n",
    "# Code for loading df_qa_prof\n",
    "# df_qa_prof = pickle.load(open('df_qa_prof.pickle','rb'))"
   ]
  },
  {
   "cell_type": "code",
   "execution_count": 11,
   "metadata": {},
   "outputs": [
    {
     "name": "stdout",
     "output_type": "stream",
     "text": [
      "__notebook__.ipynb  __output__.json  df_professionals.pickle  df_qa_prof.pickle\r\n"
     ]
    }
   ],
   "source": [
    "# Check that the new file has been created\n",
    "!ls"
   ]
  },
  {
   "cell_type": "markdown",
   "metadata": {
    "_uuid": "8ca5ef3f09cc2d146690282463e260f5d4d07616"
   },
   "source": [
    "### 2.10. Display the df_qa_prof dataframe\n",
    "\n",
    "This is the pre-processed dataframe that we'll use in all three models. Just a reminder that this is a merged dataframe that includes questions, answers and professionals. Professionals who didn't answer any questions are not included. Also remember that we created a new column called quest_text where each cell contains both the question title and the question body."
   ]
  },
  {
   "cell_type": "code",
   "execution_count": 12,
   "metadata": {},
   "outputs": [
    {
     "data": {
      "text/plain": [
       "(51123, 18)"
      ]
     },
     "execution_count": 12,
     "metadata": {},
     "output_type": "execute_result"
    }
   ],
   "source": [
    "df_qa_prof.shape"
   ]
  },
  {
   "cell_type": "code",
   "execution_count": 13,
   "metadata": {
    "_uuid": "e294fb2f0bd4dff261f84d86a5701bf8fe2922d0"
   },
   "outputs": [
    {
     "data": {
      "text/html": [
       "<div>\n",
       "<style scoped>\n",
       "    .dataframe tbody tr th:only-of-type {\n",
       "        vertical-align: middle;\n",
       "    }\n",
       "\n",
       "    .dataframe tbody tr th {\n",
       "        vertical-align: top;\n",
       "    }\n",
       "\n",
       "    .dataframe thead th {\n",
       "        text-align: right;\n",
       "    }\n",
       "</style>\n",
       "<table border=\"1\" class=\"dataframe\">\n",
       "  <thead>\n",
       "    <tr style=\"text-align: right;\">\n",
       "      <th></th>\n",
       "      <th>questions_id</th>\n",
       "      <th>questions_author_id</th>\n",
       "      <th>questions_date_added</th>\n",
       "      <th>questions_title</th>\n",
       "      <th>questions_body</th>\n",
       "      <th>answers_id</th>\n",
       "      <th>answers_author_id</th>\n",
       "      <th>answers_question_id</th>\n",
       "      <th>answers_date_added</th>\n",
       "      <th>answers_body</th>\n",
       "      <th>professionals_date_joined</th>\n",
       "      <th>professionals_headline</th>\n",
       "      <th>professionals_id</th>\n",
       "      <th>professionals_industry</th>\n",
       "      <th>professionals_location</th>\n",
       "      <th>num_days_member</th>\n",
       "      <th>quest_text</th>\n",
       "      <th>answers_text</th>\n",
       "    </tr>\n",
       "  </thead>\n",
       "  <tbody>\n",
       "    <tr>\n",
       "      <th>0</th>\n",
       "      <td>332a511f1569444485cf7a7a556a5e54</td>\n",
       "      <td>8f6f374ffd834d258ab69d376dd998f5</td>\n",
       "      <td>2016-04-26 11:14:26 UTC+0000</td>\n",
       "      <td>Teacher   career   question</td>\n",
       "      <td>What  is  a  maths  teacher?   what  is  a  ma...</td>\n",
       "      <td>4e5f01128cae4f6d8fd697cec5dca60c</td>\n",
       "      <td>36ff3b3666df400f956f8335cf53e09e</td>\n",
       "      <td>332a511f1569444485cf7a7a556a5e54</td>\n",
       "      <td>2016-04-29 19:40:14 UTC+0000</td>\n",
       "      <td>&lt;p&gt;Hi!&lt;/p&gt;\\n&lt;p&gt;You are asking a very interesti...</td>\n",
       "      <td>2015-10-19 20:56:49</td>\n",
       "      <td>Assist with Recognizing and Developing Potential</td>\n",
       "      <td>36ff3b3666df400f956f8335cf53e09e</td>\n",
       "      <td>Mental Health Care</td>\n",
       "      <td>Cleveland, Ohio</td>\n",
       "      <td>1200</td>\n",
       "      <td>teacher maths teacher maths teacher useful col...</td>\n",
       "      <td>assist recognizing developing potential mental...</td>\n",
       "    </tr>\n",
       "    <tr>\n",
       "      <th>1</th>\n",
       "      <td>0f1d6a4f276c4a05878dd48e03e52289</td>\n",
       "      <td>585ac233015447cc9e9a217044e515e1</td>\n",
       "      <td>2016-05-19 22:16:25 UTC+0000</td>\n",
       "      <td>what kind of  college could i go  to for a soc...</td>\n",
       "      <td>I like soccer because i been playing sense i w...</td>\n",
       "      <td>f3519ab99a1a4a13a8a9ecb814287d2a</td>\n",
       "      <td>36ff3b3666df400f956f8335cf53e09e</td>\n",
       "      <td>0f1d6a4f276c4a05878dd48e03e52289</td>\n",
       "      <td>2016-07-31 15:35:54 UTC+0000</td>\n",
       "      <td>&lt;p&gt;Hi Rodrigo!&lt;/p&gt;\\n&lt;p&gt;The important thing to ...</td>\n",
       "      <td>2015-10-19 20:56:49</td>\n",
       "      <td>Assist with Recognizing and Developing Potential</td>\n",
       "      <td>36ff3b3666df400f956f8335cf53e09e</td>\n",
       "      <td>Mental Health Care</td>\n",
       "      <td>Cleveland, Ohio</td>\n",
       "      <td>1200</td>\n",
       "      <td>kind college could go soccer player like socce...</td>\n",
       "      <td>assist recognizing developing potential mental...</td>\n",
       "    </tr>\n",
       "    <tr>\n",
       "      <th>2</th>\n",
       "      <td>0149c6d63e214040b44d4a3789bb00ba</td>\n",
       "      <td>34217a1861d640a58c85e033414cf9cb</td>\n",
       "      <td>2018-04-12 17:13:45 UTC+0000</td>\n",
       "      <td>What is the best way to prepare for studying e...</td>\n",
       "      <td>I am interested in Computational Neuroscience,...</td>\n",
       "      <td>825f6e316a5f48328d6f8af831df9940</td>\n",
       "      <td>36ff3b3666df400f956f8335cf53e09e</td>\n",
       "      <td>0149c6d63e214040b44d4a3789bb00ba</td>\n",
       "      <td>2018-04-15 23:08:46 UTC+0000</td>\n",
       "      <td>&lt;p&gt;Congratulations on being interested in find...</td>\n",
       "      <td>2015-10-19 20:56:49</td>\n",
       "      <td>Assist with Recognizing and Developing Potential</td>\n",
       "      <td>36ff3b3666df400f956f8335cf53e09e</td>\n",
       "      <td>Mental Health Care</td>\n",
       "      <td>Cleveland, Ohio</td>\n",
       "      <td>1200</td>\n",
       "      <td>best way prepare ing engineering graduate inte...</td>\n",
       "      <td>assist recognizing developing potential mental...</td>\n",
       "    </tr>\n",
       "  </tbody>\n",
       "</table>\n",
       "</div>"
      ],
      "text/plain": [
       "                       questions_id                        ...                                                               answers_text\n",
       "0  332a511f1569444485cf7a7a556a5e54                        ...                          assist recognizing developing potential mental...\n",
       "1  0f1d6a4f276c4a05878dd48e03e52289                        ...                          assist recognizing developing potential mental...\n",
       "2  0149c6d63e214040b44d4a3789bb00ba                        ...                          assist recognizing developing potential mental...\n",
       "\n",
       "[3 rows x 18 columns]"
      ]
     },
     "execution_count": 13,
     "metadata": {},
     "output_type": "execute_result"
    }
   ],
   "source": [
    "df_qa_prof.head(3)"
   ]
  },
  {
   "cell_type": "code",
   "execution_count": 14,
   "metadata": {
    "_uuid": "49db77e9434b0c6eaed33a5e9c09a64e97681853"
   },
   "outputs": [],
   "source": []
  },
  {
   "cell_type": "code",
   "execution_count": 14,
   "metadata": {
    "_uuid": "a7bc4fc54a6153bf773123f049aff72f72b4ee83"
   },
   "outputs": [],
   "source": []
  },
  {
   "cell_type": "code",
   "execution_count": 14,
   "metadata": {
    "_uuid": "95fe9ea69302fef883fc0409e808e84832d61d3e"
   },
   "outputs": [],
   "source": []
  }
 ],
 "metadata": {
  "kernelspec": {
   "display_name": "Python 3",
   "language": "python",
   "name": "python3"
  },
  "language_info": {
   "codemirror_mode": {
    "name": "ipython",
    "version": 3
   },
   "file_extension": ".py",
   "mimetype": "text/x-python",
   "name": "python",
   "nbconvert_exporter": "python",
   "pygments_lexer": "ipython3",
   "version": "3.7.0"
  }
 },
 "nbformat": 4,
 "nbformat_minor": 1
}
